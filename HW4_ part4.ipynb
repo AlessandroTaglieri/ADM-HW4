{
 "cells": [
  {
   "cell_type": "markdown",
   "metadata": {},
   "source": [
    "Clustring problem is non-linear over the $S \\in (R^{d})^{K}$ where $d$ is the number of features in the dataset and $K$ is the number clusters. This problem can turn to linear form with binary variables while the $\\hat{S} \\in S$ only cosists of the points in the dataset. This problem can be formulated as K-median problem that is in familiy of MILP (Mixed Integer Linear Programming)\n",
    "Since the K-median is MILP, algorithm like Branch & Bound can quarntee the global optimum over $\\hat{S}$. In K-median, each centroid is one of the point in the dataset and it minimize the summation of the distance to corresponding centroids. So if K-median find the solution $\\hat{X}$ with $Cost(\\hat{X})$ that is less than $Cost(X)$ where $X$ is the solution stem from K-means we can say that K-means fails to find the global optimum ($Global\\: optimum \\: \\leq Cost(\\hat{X})\\:< Cost(X)$ [Link](https://stats.stackexchange.com/questions/48757/why-doesnt-k-means-give-the-global-minimum). \n",
    "\n",
    "### K-median formulation\n",
    "\n",
    "$x_{i,j} = 1 \\: \\: \\text{if point i is in cluster} \\: c_j \\: \\text{that is} \\: \\: p_j \\: \\text{otherwise} \\: 0$\n",
    "\n",
    "$z_{j} = 1 \\: \\: \\text{if} \\: p_j \\: \\text{is a centroid otherwise} \\: 0$\n",
    "\n",
    "$d_{i,j} = \\text{squared distance of point} \\: i \\: \\text{and} \\: j$\n",
    "\n",
    "$Cost = \\sum_{i}\\sum_{j}{x_{i,j}d_{i,j}}$\n",
    "\n",
    "subject to:\n",
    "\n",
    "$x_{i,j} \\leq z_{j} \\:\\:\\forall i,j$\n",
    "\n",
    "$\\sum_{j}{x_{i,j}} = 1 \\:\\:\\forall i$\n",
    "\n",
    "$\\sum_{j}{z_{j}} = K$"
   ]
  },
  {
   "cell_type": "markdown",
   "metadata": {},
   "source": [
    "<img src=\"k-means-algorithm.png\">"
   ]
  },
  {
   "cell_type": "markdown",
   "metadata": {},
   "source": [
    "The above example shows the True clusters and possible solution we can get from K-means with different seed value. However K-median yeilds to the centroids with a bit higher Cost, but it found the true clusters while K-means fails."
   ]
  },
  {
   "cell_type": "code",
   "execution_count": null,
   "metadata": {},
   "outputs": [],
   "source": []
  }
 ],
 "metadata": {
  "kernelspec": {
   "display_name": "Python 3",
   "language": "python",
   "name": "python3"
  },
  "language_info": {
   "codemirror_mode": {
    "name": "ipython",
    "version": 3
   },
   "file_extension": ".py",
   "mimetype": "text/x-python",
   "name": "python",
   "nbconvert_exporter": "python",
   "pygments_lexer": "ipython3",
   "version": "3.7.3"
  },
  "varInspector": {
   "cols": {
    "lenName": 16,
    "lenType": 16,
    "lenVar": 40
   },
   "kernels_config": {
    "python": {
     "delete_cmd_postfix": "",
     "delete_cmd_prefix": "del ",
     "library": "var_list.py",
     "varRefreshCmd": "print(var_dic_list())"
    },
    "r": {
     "delete_cmd_postfix": ") ",
     "delete_cmd_prefix": "rm(",
     "library": "var_list.r",
     "varRefreshCmd": "cat(var_dic_list()) "
    }
   },
   "types_to_exclude": [
    "module",
    "function",
    "builtin_function_or_method",
    "instance",
    "_Feature"
   ],
   "window_display": false
  }
 },
 "nbformat": 4,
 "nbformat_minor": 2
}
