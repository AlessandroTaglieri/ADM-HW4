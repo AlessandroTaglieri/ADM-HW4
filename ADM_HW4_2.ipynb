{
 "cells": [
  {
   "cell_type": "markdown",
   "metadata": {},
   "source": [
    "# ADM"
   ]
  },
  {
   "cell_type": "markdown",
   "metadata": {},
   "source": [
    "# Alphabetical Sort\n",
    "Given a set of words, a common natural task is the one of sorting them in alphabetical order. It is something that you have for sure already done once in your life, using your own algorithm without maybe knowing it.\n",
    "\n",
    "In order to be everyone on the same page, we will refer to the rules defined here. As for multi-word string, let stick with the first plicy proposed there.\n",
    "\n",
    "What you might know is that we can relate this task to a simple algorithm that runs in linear time: Counting Sort. Counting Sort is based on a simple assumption: you know the range of the possible values of the instances you have to sort. In this exercise you are asked to perform Alphabetical Sort exploiting the algorithm of Counting Sort."
   ]
  },
  {
   "cell_type": "code",
   "execution_count": 338,
   "metadata": {},
   "outputs": [],
   "source": [
    "import string\n",
    "improt numpay as np\n",
    "lower = list(string.ascii_lowercase)\n",
    "upper = string.ascii_uppercase"
   ]
  },
  {
   "cell_type": "code",
   "execution_count": 295,
   "metadata": {},
   "outputs": [
    {
     "data": {
      "text/plain": [
       "'abcdefghijklmnopqrstuvwxyz'"
      ]
     },
     "execution_count": 295,
     "metadata": {},
     "output_type": "execute_result"
    }
   ],
   "source": [
    "lower"
   ]
  },
  {
   "cell_type": "markdown",
   "metadata": {},
   "source": [
    "Build your own implementation of Counting Sort..."
   ]
  },
  {
   "cell_type": "markdown",
   "metadata": {},
   "source": [
    "Here is the counting sort algorithm with  a bite innovation and fewer assignments than the original one explained in the attached website to the hw"
   ]
  },
  {
   "cell_type": "code",
   "execution_count": 1050,
   "metadata": {},
   "outputs": [],
   "source": [
    "def s_counting(A):   \n",
    "    m = max(A)\n",
    "    sorted_A = []\n",
    "    temp = 0\n",
    "    d = [0]*(m+1)\n",
    "    \n",
    "    for i in range(len(A)):\n",
    "        d[A[i]]+=1\n",
    "\n",
    "    for x,y in enumerate(d):\n",
    "        sorted_A += [x]*y \n",
    "    return sorted_A       "
   ]
  },
  {
   "cell_type": "code",
   "execution_count": 332,
   "metadata": {},
   "outputs": [
    {
     "data": {
      "text/plain": [
       "[0, 0, 2, 2, 3, 3, 3, 3, 5]"
      ]
     },
     "execution_count": 332,
     "metadata": {},
     "output_type": "execute_result"
    }
   ],
   "source": [
    "A = [0,3,2,3,3,0,5,2,3]\n",
    "sort_counting(A)"
   ]
  },
  {
   "cell_type": "markdown",
   "metadata": {},
   "source": [
    "Build an algorithm, based on your implementation of Counting Sort, that receives in input a list with all the letters of the alphabet (not in alphabetical order), and returns the list ordered according to alphabetical order"
   ]
  },
  {
   "cell_type": "markdown",
   "metadata": {},
   "source": [
    "We continue the same approch as first part here and keep "
   ]
  },
  {
   "cell_type": "code",
   "execution_count": 1051,
   "metadata": {},
   "outputs": [],
   "source": [
    "def sort_letters(B):\n",
    "    B = list( ''.join(B).lower())\n",
    "    m = len(B)\n",
    "    d = []\n",
    "    sorted_letters = []\n",
    "    for i in B:\n",
    "        d.append(lower.index(i)) \n",
    "    c = s_counting(d)\n",
    "    for j in c:\n",
    "        sorted_letters += lower[j]\n",
    "    return sorted_letters       "
   ]
  },
  {
   "cell_type": "code",
   "execution_count": 1052,
   "metadata": {},
   "outputs": [
    {
     "data": {
      "text/plain": [
       "['a', 'a', 'a', 'b', 'c', 'c', 'k', 'p', 'p', 'w', 'x']"
      ]
     },
     "execution_count": 1052,
     "metadata": {},
     "output_type": "execute_result"
    }
   ],
   "source": [
    "B = ['p' , 'w' , 'x', 'k' , 'p' , 'a' , 'c' ,'a' , 'b' , 'a' , 'c']\n",
    "sort_letters(B)"
   ]
  },
  {
   "cell_type": "markdown",
   "metadata": {},
   "source": [
    "Build an algorithm, based on your implementation of Counting Sort, that receives in input a list of length m, that contains words with maximum length equal to n, and returns the list ordered according to alphabetical order."
   ]
  },
  {
   "cell_type": "markdown",
   "metadata": {},
   "source": [
    "Here is the first algurithim try to follow the counting sort algurithim order, is our first approch to do it.. "
   ]
  },
  {
   "cell_type": "code",
   "execution_count": 1036,
   "metadata": {},
   "outputs": [
    {
     "name": "stdout",
     "output_type": "stream",
     "text": [
      "['amount', 'another', 'efficiently', 'is', 'open', 'problem', 'rule', 'solvable', 'thumb', 'words', 'whether']\n"
     ]
    }
   ],
   "source": [
    "Lower = lower.copy()\n",
    "Lower.insert(0,'') \n",
    "\n",
    "C  = ['words' , 'amount' , 'efficiently' , 'thumb' , 'rule' , 'solvable' ,  'Another' ,'open' ,'problem', 'is' ,'whether']\n",
    "C = [a.lower() for a in C]\n",
    "m = max([len(e) for e in C])\n",
    "d = [[] for _ in C]\n",
    "\n",
    "\n",
    "for i in range(len(C)):\n",
    "    w2l = list(C[i])\n",
    "    l2num = [Lower.index(a) for a in w2l ]\n",
    "    d[i] = l2num + [0]*(m-len(l2num))\n",
    "\n",
    "sorted_d =[[] for _ in d]    \n",
    "for x in reversed(range(m)):\n",
    "    count = [0]*len(Lower)\n",
    "    cum_count = [0]*len(Lower)\n",
    "    \n",
    "    \n",
    "    for e in range(len(d)):\n",
    "        count[d[e][x]]+=1\n",
    "        \n",
    "      \n",
    "    for r in range(len(count)):\n",
    "        if count[r]>0:\n",
    "            for g in range(len(d)):\n",
    "                if r ==d[g][x]:\n",
    "                    sorted_d.append( d[g])\n",
    "final_sort = []                   \n",
    "for h in sorted_d[-len(d):]:\n",
    "    final_sort.append( ''.join([Lower[a] for a in h]))\n",
    "    \n",
    "        \n",
    "        \n",
    "print(final_sort)   "
   ]
  },
  {
   "cell_type": "markdown",
   "metadata": {},
   "source": [
    "Here in this algorithm, we have some limitation due to the big numbers, We tried to fix the problem with normalizing the numbers between and 1000 however this will only could distinguish the words which are equal at 3 to 5 letters and after that, it would be really time-consuming to calculate and normally end up with errors"
   ]
  },
  {
   "cell_type": "code",
   "execution_count": 1034,
   "metadata": {},
   "outputs": [
    {
     "name": "stdout",
     "output_type": "stream",
     "text": [
      "['Another', 'amount', 'are', 'efficiently', 'is', 'open', 'problem', 'rule', 'solvable', 'thumb', 'whether', 'words']\n"
     ]
    }
   ],
   "source": [
    "x = ['words' , 'amount' , 'are' , 'efficiently' , 'thumb' , 'rule' , 'solvable' ,  'Another' ,'open' ,'problem', 'is' ,'whether']\n",
    "#x = ['asd', 'bedf','mog','zor','bze']\n",
    "#x = input('Enter the words, seperated by comma(,)').split(',')\n",
    "x_2 = x.copy()\n",
    "\n",
    "# Finding the longest word\n",
    "max_length = 0\n",
    "for i in x:\n",
    "    if max_length < len(list(i)):\n",
    "        max_length = len(list(i))\n",
    "    \n",
    "\n",
    "# Turning words to numbers\n",
    "for i in range(len(x)):\n",
    "    x[i] = convert_w_2_n(x[i], max_length)\n",
    "    \n",
    "\n",
    "#Normalize between 0 to 1000\n",
    "\n",
    "mx = max(x)\n",
    "mn = min(x)\n",
    "for i,j in enumerate(x):\n",
    "    x[i] = int((10**(3))*(j-mn)/(mx-mn))\n",
    "    \n",
    "    \n",
    "\n",
    "max_int = max(x)\n",
    "aux_array = [0]*(max_int+1)\n",
    "aux_array_2 = aux_array\n",
    "\n",
    "\n",
    "# Step 1 : counting\n",
    "for i in x:\n",
    "    aux_array[i] = aux_array[i] + 1\n",
    "    \n",
    "# Step 2 : comulating\n",
    "aux_array_2[0] = aux_array[0]\n",
    "for i in range(1,max_int+1):\n",
    "    aux_array_2[i] = aux_array_2[i-1] + aux_array[i]\n",
    "    \n",
    "# Sorting\n",
    "final_list = ['']*len(x)\n",
    "for i in reversed(range(len(x))): #e.g:  i = 2, 1, 0 \n",
    "    final_list[aux_array_2[x[i]]-1] = x_2[i]\n",
    "    aux_array_2[x[i]] = aux_array_2[x[i]] -1\n",
    "    \n",
    "    \n",
    "    \n",
    "print(final_list)"
   ]
  },
  {
   "cell_type": "markdown",
   "metadata": {},
   "source": [
    "# Final version with best performance and without any limitation"
   ]
  },
  {
   "cell_type": "markdown",
   "metadata": {},
   "source": [
    "Here we rewirte the count sorting algurithim again and we keep the order\n",
    "Order is the origilanl list index wich if we use order list as a index we can soert it, it shows how the elements moves from where to wher to have the final arry"
   ]
  },
  {
   "cell_type": "code",
   "execution_count": 962,
   "metadata": {},
   "outputs": [],
   "source": [
    "#sorting\n",
    "\n",
    "def sort_counting(A):   \n",
    "    m = max(A)\n",
    "    sorted_A = []\n",
    "    temp = 0\n",
    "    d = [0]*(m+1)\n",
    "    \n",
    "    for i in range(len(A)):\n",
    "        d[A[i]]+=1\n",
    "    \n",
    "    cum_d =[0]*(m+1)\n",
    "    for i in d:\n",
    "        cum_d.append(i)  \n",
    "        \n",
    "    order = list()\n",
    "    for x,y in enumerate(d):\n",
    "        sorted_A += [x]*y\n",
    "        for i in range(y):\n",
    "            order.append(A.index(x))\n",
    "            A[order[-1]] = -1\n",
    "\n",
    "\n",
    "    return sorted_A , order  "
   ]
  },
  {
   "cell_type": "markdown",
   "metadata": {},
   "source": [
    "# Now  we use the counting sort algruthin and it's order to make this work\n",
    "We have used pure counting sort algurtim and keep the $big O$ time still in $O(n)$ \n",
    "Howerver the total time it use is $T(n) = kn+c$ "
   ]
  },
  {
   "cell_type": "markdown",
   "metadata": {},
   "source": [
    "the one is exatly same big O and principle as counting sort"
   ]
  },
  {
   "cell_type": "code",
   "execution_count": 1029,
   "metadata": {},
   "outputs": [
    {
     "data": {
      "text/plain": [
       "['alessand',\n",
       " 'alessandra',\n",
       " 'alessandro',\n",
       " 'alessandrx',\n",
       " 'alessio',\n",
       " 'angela',\n",
       " 'anita',\n",
       " 'anna',\n",
       " 'arianna']"
      ]
     },
     "execution_count": 1029,
     "metadata": {},
     "output_type": "execute_result"
    }
   ],
   "source": [
    "Lower = lower.copy()\n",
    "Lower.insert(0,'') \n",
    "import numpy as np\n",
    "\n",
    "C  = [  'Alessio', 'Alessandro' , 'Angela', 'Alessand','Anita', 'Anna','Alessandrx', 'Arianna' ,'Alessandra']\n",
    "C = [a.lower() for a in C]\n",
    "m = max([len(e) for e in C])\n",
    "d = [[] for _ in C]\n",
    "final_sort = C.copy()\n",
    "\n",
    "for i in range(len(C)):\n",
    "    w2l = list(C[i])\n",
    "    l2num = [Lower.index(a) for a in w2l ]\n",
    "    d[i] = l2num + [0]*(m-len(l2num))\n",
    "\n",
    "dd = np.array(d)    \n",
    "for x in reversed(range(m)):\n",
    "    count, order = sort_counting(list(dd[: ,x]))\n",
    "    temp = [[] for _ in  d]\n",
    "    temp_sort = final_sort.copy()\n",
    "    \n",
    "    for i,j in enumerate(order):\n",
    "        temp[i] += list(dd[j])\n",
    "        \n",
    "        final_sort[i] =temp_sort[j]\n",
    "            \n",
    "    dd = np.array(temp)     \n",
    "        \n",
    "            \n",
    "final_sort  "
   ]
  }
 ],
 "metadata": {
  "kernelspec": {
   "display_name": "Python 3",
   "language": "python",
   "name": "python3"
  },
  "language_info": {
   "codemirror_mode": {
    "name": "ipython",
    "version": 3
   },
   "file_extension": ".py",
   "mimetype": "text/x-python",
   "name": "python",
   "nbconvert_exporter": "python",
   "pygments_lexer": "ipython3",
   "version": "3.7.3"
  }
 },
 "nbformat": 4,
 "nbformat_minor": 2
}
