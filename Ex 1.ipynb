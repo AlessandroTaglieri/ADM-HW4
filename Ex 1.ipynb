{
 "cells": [
  {
   "cell_type": "markdown",
   "metadata": {},
   "source": [
    "## 1. Hashing task!"
   ]
  },
  {
   "cell_type": "markdown",
   "metadata": {},
   "source": [
    "* We've put all passwords from passwords1.txt and passwords2.txt  in two lists: listPasswords1 and listPasswords2"
   ]
  },
  {
   "cell_type": "code",
   "execution_count": 1,
   "metadata": {},
   "outputs": [],
   "source": [
    "listPasswords1=[]\n",
    "listPasswords2=[]\n",
    "filePassword1 = open(\"passwords1.txt\", 'r')\n",
    "lines_p1 = filePassword1.readlines()\n",
    "for line in lines_p1:\n",
    "    listPasswords1.append(line.strip())\n",
    "\n",
    "filePassword2 = open(\"passwords2.txt\", 'r')\n",
    "lines_p2 = filePassword2.readlines()\n",
    "for line in lines_p2:\n",
    "    listPasswords2.append(line.strip())\n",
    "\n"
   ]
  },
  {
   "cell_type": "markdown",
   "metadata": {},
   "source": [
    "We have set all variables that we need to build our Bloom Filter:\n",
    "* n = Number of items in the filter\n",
    "* p = Probability of false positives, fraction between 0 and 1\n",
    "* m = Number of bits in the filter (size of Bloom Filter bit-array)\n",
    "* k = Number of hash functions\n",
    "\n",
    "We did these following considerations:\n",
    "N is the amount of passwords that are in passwordss1.txt (i.e. in listPasswords1).\n",
    "We need to calculate p,m and k from following formulas:\n",
    "\\begin{align*}\n",
    "k = (m/n)*ln(2)\n",
    "\\end{align*}\n",
    "\n",
    "\\begin{align*}\n",
    "m = ((n*ln(p)) / (ln(2))^2\n",
    "\\end{align*}\n",
    "\n",
    "Since we don't know the value of any previous varaibles, from https://hackernoon.com/probabilistic-data-structures-bloom-filter-5374112a7832 (suggested link in track) we have set initially p=0.0015. P must be a valuue between 0 and 1. With smaller value of p, we have a lower probability to have a false positives in search on bloom filter. \n",
    "Bloom filter can have false positives and NOT false negatives. We have choosen this value (0.0015) from a different test that we have tryed. We think that it should be an optimal value to have also optimal values about k and m.\n",
    "Funally we calculated k and m (with previous formulas)."
   ]
  },
  {
   "cell_type": "code",
   "execution_count": 2,
   "metadata": {},
   "outputs": [],
   "source": [
    "n=len(listPasswords1)\n",
    "p=0.0015\n",
    "import math\n",
    "m=math.ceil((n * math.log(p)) / math.log(1 / pow(2, math.log(2))))\n",
    "k = round((m / n) * math.log(2))"
   ]
  },
  {
   "cell_type": "markdown",
   "metadata": {},
   "source": [
    "This following function is our hash function. We have written from scratch our fnv function based on fnv hash function. FNV hashes are designed to be fast while maintaining a low collision rate. The FNV speed allows one to quickly hash lots of data while maintaining a reasonable collision rate. \n",
    "To build bloom filter we need of various hash functions that should be independent, uniformly distributed and fast.\n",
    "From previous formulas, we have calculated the number of different hash functions that we should use. We set a variable, called 'seed' that is an integer from 0 to k(number of hash functions); in this way we'll have k different hash fucntions that transform our input string in k different number. These k numbers will be the index of our bit-array that represent respective inout password.\n"
   ]
  },
  {
   "cell_type": "code",
   "execution_count": 4,
   "metadata": {},
   "outputs": [],
   "source": [
    "def fnv1_64(string, seed=0):\n",
    "    \"\"\"\n",
    "    Returns: The FNV-1 hash of a given string. \n",
    "    \"\"\"\n",
    "    #Constants\n",
    "    FNV_prime = 1099511628211\n",
    "    offset_basis = 14695981039346656037\n",
    "\n",
    "    #FNV-1a Hash Function\n",
    "    hash = offset_basis + seed\n",
    "    for char in string:\n",
    "        hash = hash * FNV_prime\n",
    "        hash = hash ^ ord(char)\n",
    "    return hash\n",
    "\n",
    "\n"
   ]
  },
  {
   "cell_type": "markdown",
   "metadata": {},
   "source": [
    "This following class 'BloomFilter' represent out Bloom Filter. \n",
    "\n",
    "It has three attributes:\n",
    "* sizeArray = dimension of bit-array\n",
    "* number_HashFucntion = number of hash functions\n",
    "* array_BloomFilter = bit-array of bloom filter\n",
    "\n",
    "It has also two methods:\n",
    "* init: it takes, as parameteers ouur bloom filter, k (number of hash functions that we have calculated from previous formula), m  (size of bit-array that we have calculated with  previous function). It initializes the bit-array of Bloom filter (size=m) with all '0'; its size with m and its number of hash functions with k.\n",
    "* add: this method allow to add an element from input list to our bloom filter. It takes this list and our bloom filter as parameters and it calculates the effective bit-array with right '1' and '0'."
   ]
  },
  {
   "cell_type": "code",
   "execution_count": 5,
   "metadata": {},
   "outputs": [],
   "source": [
    "class BloomFilter:\n",
    "\n",
    "    sizeArray=0\n",
    "    number_HashFucntion=0\n",
    "    array_BloomFilter=[]\n",
    "    count=0\n",
    "    @property\n",
    "    def size(self):\n",
    "        return self.sizeArray\n",
    "    @property\n",
    "    def numHash(self):\n",
    "        return self.number_HashFucntion\n",
    "    @property\n",
    "    def arrayBloom(self):\n",
    "        return self.array_BloomFilter\n",
    "    \n",
    "    def init(self,k,m):\n",
    "        self.sizeArray=m\n",
    "        self.number_HashFucntion=k\n",
    "        \n",
    "        for i in range(n):\n",
    "            self.array_BloomFilter.append(0)\n",
    "    \n",
    "    def add(self,strings):\n",
    "        print(self.number_HashFucntion)\n",
    "        print(self.sizeArray)\n",
    "        h=0\n",
    "        for psw in strings:\n",
    "            a=false\n",
    "            for seed in range(self.number_HashFucntion):\n",
    "                index=fnv1_64(psw,seed) % self.sizeArray\n",
    "                if self.array_BloomFilter[index]==1 and a==false:\n",
    "                    self.count+=1\n",
    "                    a=true\n",
    "                self.array_BloomFilter[index]=1"
   ]
  },
  {
   "cell_type": "markdown",
   "metadata": {},
   "source": [
    "Then we made a function 'checkPassw' that checks how many password in listPasswords2 (i.e. in passowrds2.txt) are in our Bloom Filter. It takes our bloom filter and the list of passwords that are in passwords2.txt and it returns how many passwords are in bloom filter. \n",
    "A password is in our bloom filter if and only if its conversion with hash functions coresponds to every '1' in the bit-array. If there is only one '0', current password is not in bloom filter.\n",
    "\n",
    "'countCheck' is the number of occurences of passwords (from passwords2.txt) in bloom filter. This number represent the occurences of passwords from passwords2.txt that are 'probably' in password1.txt"
   ]
  },
  {
   "cell_type": "code",
   "execution_count": 42,
   "metadata": {},
   "outputs": [],
   "source": [
    "def checkPassw(BloomFilter, listPasswords2):\n",
    "    countCheck=0\n",
    "    for psw in listPasswords2:\n",
    "        count=0\n",
    "        for seed in range(BloomFilter.number_HashFucntion):\n",
    "            index=fnv1_64(psw,seed) % BloomFilter.sizeArray\n",
    "            if BloomFilter.array_BloomFilter[index]==1:\n",
    "                count+=1\n",
    "            if count==BloomFilter.number_HashFucntion:\n",
    "                countCheck+=1\n",
    "            \n",
    "    return countCheck"
   ]
  },
  {
   "cell_type": "markdown",
   "metadata": {},
   "source": [
    "## Bonus section: \n",
    "###### We calculate the number of false positive\n",
    "\n",
    "This following function 'falsePositives' allows to calculate the exact number of false positive. It takes these following data, as parameter:\n",
    "* Bloom Filter = our bloom filter\n",
    "* listPassowrds1 = passwords from passwords1.txt\n",
    "* listPassowrds2 = passwords from passwords2.txt\n",
    "\n",
    "For every password in listPasswords2, it checks for every password, if current password is in the bloom filter. Then if this password is in bloom filter, it means that it is 'probably' in listPasswords2. To check if it's a false positive (i.e. it is not in listPAsswords1), we'll continue to verify if this current password is in listPassword1. If it's true, it means tht it is a False psiitive and we increment our counter 'countFalsePositives'; if it's True it means this password is actually in listPassword1 nad we continue with next password in listPassword2."
   ]
  },
  {
   "cell_type": "code",
   "execution_count": 44,
   "metadata": {},
   "outputs": [],
   "source": [
    "def falsePositives(BloomFilter, listPasswords1, listPasswords2):\n",
    "    countFalsePositives=0\n",
    "    for psw in listPasswords2:\n",
    "        count=0\n",
    "        for seed in range(BloomFilter.number_HashFucntion):\n",
    "            index=fnv1_64(psw,seed) % BloomFilter.sizeArray\n",
    "            if (BloomFilter.array_BloomFilter[index]==1):\n",
    "                    count+=1\n",
    "            else:\n",
    "                break\n",
    "            if count==BloomFilter.number_HashFucntion and not(psw in listPasswords1):\n",
    "                countFalsePositives+=1\n",
    "                \n",
    "    return countFalsePositives\n",
    "                "
   ]
  },
  {
   "cell_type": "markdown",
   "metadata": {},
   "source": [
    "Then we did the main function, as wirtten in homework track. With this function we did these following steps:\n",
    "* init bit-array, its size adn number of hash functions of our bloom filter, with 'BloomFilter.init(BloomFilter,k,m)'\n",
    "* add passowrds from listPasswords1 into our bloom filter, with 'BloomFilter.add(BloomFilter,listPasswords1)'\n",
    "* calculate how many passwords (from passwords2.txt) are present in our bloom filter, with 'checkPassw(BloomFilter,listPasswords2)'\n",
    "\n",
    "###### Finally we print these following functions:\n",
    "* Number of hash function used\n",
    "* Number of duplicates detected\n",
    "* Probability of false positives\n",
    "* Execution time"
   ]
  },
  {
   "cell_type": "code",
   "execution_count": 6,
   "metadata": {},
   "outputs": [],
   "source": [
    "import time\n",
    "\n",
    "def BloomFilterFunc(listPasswords1, listPasswords2):\n",
    "    start = time.time()\n",
    "    #init our bloom filter\n",
    "    BloomFilter.init(BloomFilter,k,m)\n",
    "    #add all passowrd from listPassowrds1 to our bloom filter\n",
    "    BloomFilter.add(BloomFilter,listPasswords1)\n",
    "    #check and save into 'countPassw' the number of occurences of password (from passwords2) in the bloom filter\n",
    "    countPassw=checkPassw(BloomFilter,listPasswords2)\n",
    "    end = time.time()\n",
    "    \n",
    "    #print output data\n",
    "    \n",
    "    print('Number of occurences of password (from passwords2) in the bloom filter: ', countPassw)\n",
    "    print('Number of hash function used: ', k)\n",
    "    print('Number of duplicates detected: ', BloomFilter.count)\n",
    "    print('Probability of false positives: ', p)\n",
    "    print('Execution time: ', end-start)\n",
    "    \n",
    "\n"
   ]
  },
  {
   "cell_type": "markdown",
   "metadata": {},
   "source": [
    "* Execute main function"
   ]
  },
  {
   "cell_type": "code",
   "execution_count": null,
   "metadata": {},
   "outputs": [],
   "source": [
    "BloomFilterFunc(listPasswords1, listPasswords2)"
   ]
  },
  {
   "cell_type": "markdown",
   "metadata": {},
   "source": [
    "* Execute bonus section"
   ]
  },
  {
   "cell_type": "code",
   "execution_count": null,
   "metadata": {},
   "outputs": [],
   "source": [
    "print('Number of flase positive: ', falsePositives(BloomFilter,listPasswords1,listPasswords2))"
   ]
  }
 ],
 "metadata": {
  "kernelspec": {
   "display_name": "Python 3",
   "language": "python",
   "name": "python3"
  },
  "language_info": {
   "codemirror_mode": {
    "name": "ipython",
    "version": 3
   },
   "file_extension": ".py",
   "mimetype": "text/x-python",
   "name": "python",
   "nbconvert_exporter": "python",
   "pygments_lexer": "ipython3",
   "version": "3.7.3"
  }
 },
 "nbformat": 4,
 "nbformat_minor": 2
}
